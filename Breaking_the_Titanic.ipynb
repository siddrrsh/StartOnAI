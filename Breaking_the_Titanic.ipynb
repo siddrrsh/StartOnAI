{
  "nbformat": 4,
  "nbformat_minor": 0,
  "metadata": {
    "colab": {
      "name": "Breaking the Titanic.ipynb",
      "provenance": [],
      "collapsed_sections": [],
      "include_colab_link": true
    },
    "kernelspec": {
      "name": "python3",
      "display_name": "Python 3"
    }
  },
  "cells": [
    {
      "cell_type": "markdown",
      "metadata": {
        "id": "view-in-github",
        "colab_type": "text"
      },
      "source": [
        "<a href=\"https://colab.research.google.com/github/siddrrsh/StartOnAI/blob/master/Breaking_the_Titanic.ipynb\" target=\"_parent\"><img src=\"https://colab.research.google.com/assets/colab-badge.svg\" alt=\"Open In Colab\"/></a>"
      ]
    },
    {
      "cell_type": "markdown",
      "metadata": {
        "id": "qL0c27JHruYU"
      },
      "source": [
        "# **Breaking the Titanic**\n",
        "###### Created by **Nathan Zhao**"
      ]
    },
    {
      "cell_type": "markdown",
      "metadata": {
        "id": "--AF4B49uMQ1"
      },
      "source": [
        "![Titanic Image](https://cdn.discordapp.com/attachments/634851401452879883/732674363589001317/Titanic.jpg)"
      ]
    },
    {
      "cell_type": "markdown",
      "metadata": {
        "id": "fqY4u0ttqAEf"
      },
      "source": [
        "# **Introduction**\n",
        "In this Python Notebook, we will be discussing the code of a tutorial from a recent Kaggle competition, [Titanic: Machine Learning from Disaster](https://www.kaggle.com/c/titanic) and its [tutorial code](https://www.kaggle.com/alexisbcook/titanic-tutorial).\n",
        "\n",
        "Our goal in this competition is: Using the Titanic's passenger data (age, price of ticket, gender, etc.) we will try to predict who lives and who dies using machine learning."
      ]
    },
    {
      "cell_type": "markdown",
      "metadata": {
        "id": "UWUxDoBbtPjT"
      },
      "source": [
        "# **Handling Data**\n",
        "\n",
        "Our data (downloadable [here](https://www.kaggle.com/c/titanic/data)), is split into training and test data (`train.csv` and `test.csv` accordingly). Using our training data, we can train a model such that given the passenger data of survivors and casualties, it can predict whether a given person from our test data would survive the Titanic, just from their passenger data.\n",
        "\n",
        "Below shows the different variables attached to each person in the training and test data (though within the test data, the survival data will be hidden).\n",
        "![Table](https://cdn.discordapp.com/attachments/634851401452879883/732674052451336302/unknown.png)\n",
        "\n",
        "Additionally, we are given a data file `gender_submission.csv` of what our submission should look like (or how our model will output its predictions for the test data).\n",
        "\n",
        "After downloading the data, we can use the Pandas library in order to process it. **If when you run the code and you see an error**, copy this notebook and drop the Kaggle `.csv` files into the file-space on the left. Below is what your file-space should look like.\n",
        "\n",
        "![](https://cdn.discordapp.com/attachments/634851401452879883/733395509301215322/unknown.png)"
      ]
    },
    {
      "cell_type": "code",
      "metadata": {
        "id": "u-GtJPeFzqU0"
      },
      "source": [
        "# We import the necessary libraries (for all our code)\n",
        "import pandas as pd\n",
        "from sklearn.ensemble import RandomForestClassifier"
      ],
      "execution_count": null,
      "outputs": []
    },
    {
      "cell_type": "code",
      "metadata": {
        "id": "6J5loBabyUCn",
        "colab": {
          "base_uri": "https://localhost:8080/",
          "height": 237
        },
        "outputId": "9e32579a-a31a-4d8e-9874-b6eac1d049a6"
      },
      "source": [
        "# We open our training data and show it\n",
        "raw_train_data = pd.read_csv(\"/content/train.csv\")\n",
        "raw_train_data.head()"
      ],
      "execution_count": null,
      "outputs": [
        {
          "output_type": "execute_result",
          "data": {
            "text/html": [
              "<div>\n",
              "<style scoped>\n",
              "    .dataframe tbody tr th:only-of-type {\n",
              "        vertical-align: middle;\n",
              "    }\n",
              "\n",
              "    .dataframe tbody tr th {\n",
              "        vertical-align: top;\n",
              "    }\n",
              "\n",
              "    .dataframe thead th {\n",
              "        text-align: right;\n",
              "    }\n",
              "</style>\n",
              "<table border=\"1\" class=\"dataframe\">\n",
              "  <thead>\n",
              "    <tr style=\"text-align: right;\">\n",
              "      <th></th>\n",
              "      <th>PassengerId</th>\n",
              "      <th>Survived</th>\n",
              "      <th>Pclass</th>\n",
              "      <th>Name</th>\n",
              "      <th>Sex</th>\n",
              "      <th>Age</th>\n",
              "      <th>SibSp</th>\n",
              "      <th>Parch</th>\n",
              "      <th>Ticket</th>\n",
              "      <th>Fare</th>\n",
              "      <th>Cabin</th>\n",
              "      <th>Embarked</th>\n",
              "    </tr>\n",
              "  </thead>\n",
              "  <tbody>\n",
              "    <tr>\n",
              "      <th>0</th>\n",
              "      <td>1</td>\n",
              "      <td>0</td>\n",
              "      <td>3</td>\n",
              "      <td>Braund, Mr. Owen Harris</td>\n",
              "      <td>male</td>\n",
              "      <td>22.0</td>\n",
              "      <td>1</td>\n",
              "      <td>0</td>\n",
              "      <td>A/5 21171</td>\n",
              "      <td>7.2500</td>\n",
              "      <td>NaN</td>\n",
              "      <td>S</td>\n",
              "    </tr>\n",
              "    <tr>\n",
              "      <th>1</th>\n",
              "      <td>2</td>\n",
              "      <td>1</td>\n",
              "      <td>1</td>\n",
              "      <td>Cumings, Mrs. John Bradley (Florence Briggs Th...</td>\n",
              "      <td>female</td>\n",
              "      <td>38.0</td>\n",
              "      <td>1</td>\n",
              "      <td>0</td>\n",
              "      <td>PC 17599</td>\n",
              "      <td>71.2833</td>\n",
              "      <td>C85</td>\n",
              "      <td>C</td>\n",
              "    </tr>\n",
              "    <tr>\n",
              "      <th>2</th>\n",
              "      <td>3</td>\n",
              "      <td>1</td>\n",
              "      <td>3</td>\n",
              "      <td>Heikkinen, Miss. Laina</td>\n",
              "      <td>female</td>\n",
              "      <td>26.0</td>\n",
              "      <td>0</td>\n",
              "      <td>0</td>\n",
              "      <td>STON/O2. 3101282</td>\n",
              "      <td>7.9250</td>\n",
              "      <td>NaN</td>\n",
              "      <td>S</td>\n",
              "    </tr>\n",
              "    <tr>\n",
              "      <th>3</th>\n",
              "      <td>4</td>\n",
              "      <td>1</td>\n",
              "      <td>1</td>\n",
              "      <td>Futrelle, Mrs. Jacques Heath (Lily May Peel)</td>\n",
              "      <td>female</td>\n",
              "      <td>35.0</td>\n",
              "      <td>1</td>\n",
              "      <td>0</td>\n",
              "      <td>113803</td>\n",
              "      <td>53.1000</td>\n",
              "      <td>C123</td>\n",
              "      <td>S</td>\n",
              "    </tr>\n",
              "    <tr>\n",
              "      <th>4</th>\n",
              "      <td>5</td>\n",
              "      <td>0</td>\n",
              "      <td>3</td>\n",
              "      <td>Allen, Mr. William Henry</td>\n",
              "      <td>male</td>\n",
              "      <td>35.0</td>\n",
              "      <td>0</td>\n",
              "      <td>0</td>\n",
              "      <td>373450</td>\n",
              "      <td>8.0500</td>\n",
              "      <td>NaN</td>\n",
              "      <td>S</td>\n",
              "    </tr>\n",
              "  </tbody>\n",
              "</table>\n",
              "</div>"
            ],
            "text/plain": [
              "   PassengerId  Survived  Pclass  ...     Fare Cabin  Embarked\n",
              "0            1         0       3  ...   7.2500   NaN         S\n",
              "1            2         1       1  ...  71.2833   C85         C\n",
              "2            3         1       3  ...   7.9250   NaN         S\n",
              "3            4         1       1  ...  53.1000  C123         S\n",
              "4            5         0       3  ...   8.0500   NaN         S\n",
              "\n",
              "[5 rows x 12 columns]"
            ]
          },
          "metadata": {
            "tags": []
          },
          "execution_count": 92
        }
      ]
    },
    {
      "cell_type": "code",
      "metadata": {
        "id": "G0UNzlN1zk_k",
        "colab": {
          "base_uri": "https://localhost:8080/",
          "height": 203
        },
        "outputId": "d413a8c8-4dba-4b0d-d68c-21fefdf7f315"
      },
      "source": [
        "# We open our test data and show it\n",
        "raw_test_data = pd.read_csv(\"/content/test.csv\")\n",
        "raw_test_data.head()"
      ],
      "execution_count": null,
      "outputs": [
        {
          "output_type": "execute_result",
          "data": {
            "text/html": [
              "<div>\n",
              "<style scoped>\n",
              "    .dataframe tbody tr th:only-of-type {\n",
              "        vertical-align: middle;\n",
              "    }\n",
              "\n",
              "    .dataframe tbody tr th {\n",
              "        vertical-align: top;\n",
              "    }\n",
              "\n",
              "    .dataframe thead th {\n",
              "        text-align: right;\n",
              "    }\n",
              "</style>\n",
              "<table border=\"1\" class=\"dataframe\">\n",
              "  <thead>\n",
              "    <tr style=\"text-align: right;\">\n",
              "      <th></th>\n",
              "      <th>PassengerId</th>\n",
              "      <th>Pclass</th>\n",
              "      <th>Name</th>\n",
              "      <th>Sex</th>\n",
              "      <th>Age</th>\n",
              "      <th>SibSp</th>\n",
              "      <th>Parch</th>\n",
              "      <th>Ticket</th>\n",
              "      <th>Fare</th>\n",
              "      <th>Cabin</th>\n",
              "      <th>Embarked</th>\n",
              "    </tr>\n",
              "  </thead>\n",
              "  <tbody>\n",
              "    <tr>\n",
              "      <th>0</th>\n",
              "      <td>892</td>\n",
              "      <td>3</td>\n",
              "      <td>Kelly, Mr. James</td>\n",
              "      <td>male</td>\n",
              "      <td>34.5</td>\n",
              "      <td>0</td>\n",
              "      <td>0</td>\n",
              "      <td>330911</td>\n",
              "      <td>7.8292</td>\n",
              "      <td>NaN</td>\n",
              "      <td>Q</td>\n",
              "    </tr>\n",
              "    <tr>\n",
              "      <th>1</th>\n",
              "      <td>893</td>\n",
              "      <td>3</td>\n",
              "      <td>Wilkes, Mrs. James (Ellen Needs)</td>\n",
              "      <td>female</td>\n",
              "      <td>47.0</td>\n",
              "      <td>1</td>\n",
              "      <td>0</td>\n",
              "      <td>363272</td>\n",
              "      <td>7.0000</td>\n",
              "      <td>NaN</td>\n",
              "      <td>S</td>\n",
              "    </tr>\n",
              "    <tr>\n",
              "      <th>2</th>\n",
              "      <td>894</td>\n",
              "      <td>2</td>\n",
              "      <td>Myles, Mr. Thomas Francis</td>\n",
              "      <td>male</td>\n",
              "      <td>62.0</td>\n",
              "      <td>0</td>\n",
              "      <td>0</td>\n",
              "      <td>240276</td>\n",
              "      <td>9.6875</td>\n",
              "      <td>NaN</td>\n",
              "      <td>Q</td>\n",
              "    </tr>\n",
              "    <tr>\n",
              "      <th>3</th>\n",
              "      <td>895</td>\n",
              "      <td>3</td>\n",
              "      <td>Wirz, Mr. Albert</td>\n",
              "      <td>male</td>\n",
              "      <td>27.0</td>\n",
              "      <td>0</td>\n",
              "      <td>0</td>\n",
              "      <td>315154</td>\n",
              "      <td>8.6625</td>\n",
              "      <td>NaN</td>\n",
              "      <td>S</td>\n",
              "    </tr>\n",
              "    <tr>\n",
              "      <th>4</th>\n",
              "      <td>896</td>\n",
              "      <td>3</td>\n",
              "      <td>Hirvonen, Mrs. Alexander (Helga E Lindqvist)</td>\n",
              "      <td>female</td>\n",
              "      <td>22.0</td>\n",
              "      <td>1</td>\n",
              "      <td>1</td>\n",
              "      <td>3101298</td>\n",
              "      <td>12.2875</td>\n",
              "      <td>NaN</td>\n",
              "      <td>S</td>\n",
              "    </tr>\n",
              "  </tbody>\n",
              "</table>\n",
              "</div>"
            ],
            "text/plain": [
              "   PassengerId  Pclass  ... Cabin Embarked\n",
              "0          892       3  ...   NaN        Q\n",
              "1          893       3  ...   NaN        S\n",
              "2          894       2  ...   NaN        Q\n",
              "3          895       3  ...   NaN        S\n",
              "4          896       3  ...   NaN        S\n",
              "\n",
              "[5 rows x 11 columns]"
            ]
          },
          "metadata": {
            "tags": []
          },
          "execution_count": 93
        }
      ]
    },
    {
      "cell_type": "markdown",
      "metadata": {
        "id": "-giZD41bz4Gm"
      },
      "source": [
        "Let's also check out our submission format."
      ]
    },
    {
      "cell_type": "code",
      "metadata": {
        "id": "AxXFV6HZz-5F",
        "colab": {
          "base_uri": "https://localhost:8080/",
          "height": 203
        },
        "outputId": "a9d4edfc-d094-4d27-c1c2-c1fb588e127c"
      },
      "source": [
        "gender_submission = pd.read_csv(\"/content/gender_submission.csv\")\n",
        "gender_submission.head()"
      ],
      "execution_count": null,
      "outputs": [
        {
          "output_type": "execute_result",
          "data": {
            "text/html": [
              "<div>\n",
              "<style scoped>\n",
              "    .dataframe tbody tr th:only-of-type {\n",
              "        vertical-align: middle;\n",
              "    }\n",
              "\n",
              "    .dataframe tbody tr th {\n",
              "        vertical-align: top;\n",
              "    }\n",
              "\n",
              "    .dataframe thead th {\n",
              "        text-align: right;\n",
              "    }\n",
              "</style>\n",
              "<table border=\"1\" class=\"dataframe\">\n",
              "  <thead>\n",
              "    <tr style=\"text-align: right;\">\n",
              "      <th></th>\n",
              "      <th>PassengerId</th>\n",
              "      <th>Survived</th>\n",
              "    </tr>\n",
              "  </thead>\n",
              "  <tbody>\n",
              "    <tr>\n",
              "      <th>0</th>\n",
              "      <td>892</td>\n",
              "      <td>0</td>\n",
              "    </tr>\n",
              "    <tr>\n",
              "      <th>1</th>\n",
              "      <td>893</td>\n",
              "      <td>1</td>\n",
              "    </tr>\n",
              "    <tr>\n",
              "      <th>2</th>\n",
              "      <td>894</td>\n",
              "      <td>0</td>\n",
              "    </tr>\n",
              "    <tr>\n",
              "      <th>3</th>\n",
              "      <td>895</td>\n",
              "      <td>0</td>\n",
              "    </tr>\n",
              "    <tr>\n",
              "      <th>4</th>\n",
              "      <td>896</td>\n",
              "      <td>1</td>\n",
              "    </tr>\n",
              "  </tbody>\n",
              "</table>\n",
              "</div>"
            ],
            "text/plain": [
              "   PassengerId  Survived\n",
              "0          892         0\n",
              "1          893         1\n",
              "2          894         0\n",
              "3          895         0\n",
              "4          896         1"
            ]
          },
          "metadata": {
            "tags": []
          },
          "execution_count": 94
        }
      ]
    },
    {
      "cell_type": "markdown",
      "metadata": {
        "id": "L7P3F5iK0QsH"
      },
      "source": [
        "We see that our example is somewhat suspect. Comparing the test data and our submission, using the according passenger IDs, we see that our example model purely assumes that all women on the Titanic survived and all men died. Let's see how this stands true by comparing it to the training data."
      ]
    },
    {
      "cell_type": "code",
      "metadata": {
        "id": "1POn-jWD1VY3",
        "colab": {
          "base_uri": "https://localhost:8080/",
          "height": 52
        },
        "outputId": "b49180bb-b751-4d09-9b27-9bd62ef9ca13"
      },
      "source": [
        "# We get all the women who survived\n",
        "women = raw_train_data.loc[raw_train_data.Sex == 'female'][\"Survived\"]\n",
        "\n",
        "# And find the ratio of women who survived / total women on the Titanic\n",
        "rate_women = sum(women)/len(women)\n",
        "\n",
        "print(\"% of women who survived:\", rate_women)\n",
        "\n",
        "# We get all the men who survived\n",
        "men = raw_train_data.loc[raw_train_data.Sex == 'male'][\"Survived\"]\n",
        "\n",
        "# And find the ratio of men who survived / total men on the Titanic\n",
        "rate_men = sum(men)/len(men)\n",
        "\n",
        "print(\"% of men who survived:\", rate_men)"
      ],
      "execution_count": null,
      "outputs": [
        {
          "output_type": "stream",
          "text": [
            "% of women who survived: 0.7420382165605095\n",
            "% of men who survived: 0.18890814558058924\n"
          ],
          "name": "stdout"
        }
      ]
    },
    {
      "cell_type": "markdown",
      "metadata": {
        "id": "qocs1Z581rZH"
      },
      "source": [
        "By running the code above and submitting it into Kaggle [here](https://www.kaggle.com/c/titanic/submit), we see that our example model fails to correctly predict survival rates (scored ~76.6%). So, how can we improve our predictions and encapsulate more information from our passenger data?"
      ]
    },
    {
      "cell_type": "markdown",
      "metadata": {
        "id": "SK6D8fUv2PS6"
      },
      "source": [
        "# **Using a Random Forest Model**\n",
        "\n",
        "On the Kaggle tutorial code, they decide to use a random forest model. By using the training data, our network is able to create a set of **decision trees**, which depending on various inputs, can relatively determine an outcome of an event (for our purpose, we will predict whether a passenger will survive). \n",
        "\n",
        "However, these trees are not necessarily fully accurate. Thus, we will create a large pool of decision trees and have a voting system between them. If more trees vote that a passenger will survive than not, that will be our prediction.\n",
        "\n",
        "In a random forest model with three trees (we will have more), our model would look like this:\n",
        "\n",
        "![RFM Example](https://cdn.discordapp.com/attachments/634851401452879883/732686844277555291/unknown.png)\n",
        "\n",
        "The tutorial's code, they used `scikit-learn`, a useful machine learning library with many easily trainable models for beginners. If you are starting out in machine learning, looking through the premade models and examples provided by the `scikit-learn` library is very useful.\n",
        "\n",
        "Let's check out their code:\n"
      ]
    },
    {
      "cell_type": "code",
      "metadata": {
        "id": "RftWbNav6Gf5",
        "colab": {
          "base_uri": "https://localhost:8080/",
          "height": 35
        },
        "outputId": "6ac3735c-9346-44a8-f928-57ce82d7c666"
      },
      "source": [
        "# What we will be trying to predict (based on the passenger data)\n",
        "y = raw_train_data[\"Survived\"]\n",
        "\n",
        "# Things we will be keeping track of while predicting survival rate\n",
        "features = [\"Pclass\", \"Sex\", \"SibSp\", \"Parch\"]\n",
        "\n",
        "# Process our training and test data too keep only keep track of the features we care about.\n",
        "X = pd.get_dummies(raw_train_data[features])\n",
        "X_test = pd.get_dummies(raw_test_data[features])\n",
        "\n",
        "# Create and train our random forest model\n",
        "random_forest = RandomForestClassifier(n_estimators=100, random_state=1)\n",
        "random_forest.fit(X, y)\n",
        "\n",
        "# Get our predictions of our test data\n",
        "predictions = random_forest.predict(X_test)\n",
        "\n",
        "# Format and save our predictions\n",
        "output = pd.DataFrame({'PassengerId': raw_test_data.PassengerId, 'Survived': predictions})\n",
        "output.to_csv('my_submission_1.csv', index=False)\n",
        "print(\"Your submission was successfully saved!\")"
      ],
      "execution_count": null,
      "outputs": [
        {
          "output_type": "stream",
          "text": [
            "Your submission was successfully saved!\n"
          ],
          "name": "stdout"
        }
      ]
    },
    {
      "cell_type": "markdown",
      "metadata": {
        "id": "QgmKOXN_6YQs"
      },
      "source": [
        "Look through the above code and try to see the purpose of each line. Recognize how we only take into account of a limited amount of features from the passenger ID. Can you think of why that is? Take into account the comments we've made.\n",
        "\n",
        "After downloading our `my_submission_1.csv`, we see that our model has improved (scored ~77.5)! Nevertheless, how do we continue to improve our predictions?"
      ]
    },
    {
      "cell_type": "markdown",
      "metadata": {
        "id": "OW8_EhhAynJF"
      },
      "source": [
        "# **Improving our Results**\n",
        "\n",
        "In our above code, we see that we don't truly encapsulate all our given features. We use only four: Pclass, Sex, Parch, and SibSp. However, if we think about it, shouldn't age and fare (ticket cost) help us determine who survives as well?\n",
        "\n",
        "So, we can try adding them to our features array. After doing so, we get an error: `Input contains NaN, infinity or a value too large for dtype('float32').`Our age and fare withinn our data have a few unknowns. \n",
        "\n",
        "We fix this by using panda's `fillna()` and `mean()` function in order to fill our unknowns and get the code below, continuing to use the random forest classifier:\n",
        "\n"
      ]
    },
    {
      "cell_type": "code",
      "metadata": {
        "id": "f8yD91_NytTU",
        "colab": {
          "base_uri": "https://localhost:8080/",
          "height": 35
        },
        "outputId": "d6e099b8-358b-4a01-8ede-e808de937e87"
      },
      "source": [
        "# What we will be trying to predict (based on the passenger data)\n",
        "y = raw_train_data[\"Survived\"]\n",
        "\n",
        "# Things we will be keeping track of while predicting survival rate\n",
        "features = [\"Age\",\"Pclass\", \"Sex\", \"SibSp\", \"Parch\",\"Fare\"]\n",
        "\n",
        "X = pd.get_dummies(raw_train_data[features])\n",
        "X_test = pd.get_dummies(raw_test_data[features])\n",
        "\n",
        "# We replace NaNs with the mean age and fare.\n",
        "X = X.fillna(X.mean())\n",
        "X_test = X_test.fillna(X_test.mean())\n",
        "\n",
        "# Create and train our random forest model\n",
        "random_forest = RandomForestClassifier(n_estimators=100, max_depth=5, random_state=500)\n",
        "random_forest.fit(X, y)\n",
        "\n",
        "# Get our predictions of our test data\n",
        "predictions = random_forest.predict(X_test)\n",
        "\n",
        "# Format and save our predictions\n",
        "output = pd.DataFrame({'PassengerId': raw_test_data.PassengerId, 'Survived': predictions})\n",
        "output.to_csv('my_submission_2.csv', index=False)\n",
        "print(\"Your submission was successfully saved!\")"
      ],
      "execution_count": null,
      "outputs": [
        {
          "output_type": "stream",
          "text": [
            "Your submission was successfully saved!\n"
          ],
          "name": "stdout"
        }
      ]
    },
    {
      "cell_type": "markdown",
      "metadata": {
        "id": "5OqSjJnE4EZO"
      },
      "source": [
        "Success! We have improved our model once again (scored ~78.5). By filling the unknowns with the mean of each set, we have taken more features into account, improving our predictions. "
      ]
    },
    {
      "cell_type": "markdown",
      "metadata": {
        "id": "nCDxnINg7iPr"
      },
      "source": [
        "# **Continuing to Improve in the Future**\n",
        "\n",
        "How will we continue to improve our predictions in the future? Looking at the online Kaggle leaderboards, we can see some pretty high scores.\n",
        "\n",
        "There are a few ways to do so:\n",
        "\n",
        "\n",
        "*   **Feature engineering** - We can add more features. We do this by extracting data from things such as names. For example, we can keep track of whether the rest of a person's family survived and use that in our prediction, or keep track of useful prefixes such as \"Master\" that signify wealth. We can continue to extract more features by keep track of noticible patterns in our training data.\n",
        "*   **Model tuning** - By altering the variables in our model, we can improve our score as well. For example, for random forest classifiers, we can alter our `max_depth` and `max_leaf_nodes` variables in order to inch towards an improved model.\n",
        "*   **Including more features** - Of course, we can add more features that we haven't kept track of, such as which destination one embarks from or their cabin. However, if you were to analyze the data, you would see that these features provides little help (which is why I did not include them in my code)\n",
        "\n",
        "In the end, I hope you learned more about machine learning and dealing with unknowns in your code. Additionally, if this was your first time working with random forest classifiers, I hope you learned a lot about them as well!\n",
        "\n",
        "As a final project, if you want to, try to implement one of the three improvements above. It may take a bit of trial and error!"
      ]
    }
  ]
}